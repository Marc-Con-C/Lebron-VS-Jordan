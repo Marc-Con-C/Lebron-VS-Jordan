{
 "cells": [
  {
   "cell_type": "code",
   "execution_count": 1,
   "id": "2d56b5bd",
   "metadata": {},
   "outputs": [],
   "source": [
    "import numpy as np\n",
    "import pandas as pd\n",
    "%matplotlib inline\n",
    "from matplotlib import pyplot as plt\n",
    "from sklearn.metrics import r2_score\n",
    "from sklearn import linear_model\n",
    "import seaborn as sns\n",
    "import warnings\n",
    "warnings.filterwarnings(\"ignore\")\n",
    "\n",
    "pd.set_option('display.float_format', lambda x: '%.3f' % x)"
   ]
  },
  {
   "cell_type": "code",
   "execution_count": 2,
   "id": "89c1b8d2",
   "metadata": {
    "scrolled": true
   },
   "outputs": [],
   "source": [
    "jordan = pd.read_csv(\"jordan_career.csv\")\n",
    "lebron = pd.read_csv(\"lebron_career.csv\")\n",
    "\n",
    "###\n",
    "pd.set_option('display.max_rows', jordan.shape[0] + 1)\n",
    "pd.set_option('display.max_rows', lebron.shape[0] + 1)\n",
    "pd.set_option('display.max_columns', jordan.shape[1] + 1)\n",
    "pd.set_option('display.max_columns', lebron.shape[1] + 1)\n",
    "###\n",
    "\n",
    "jordan.drop([\"game\", \"date\", \"team\", \"opp\", \"minus_plus\"], axis=1, inplace=True) \n",
    "lebron.drop([\"game\", \"date\", \"team\", \"opp\", \"minus_plus\"], axis=1, inplace=True) \n",
    "\n",
    "jordan[\"threep\"] = jordan[\"threep\"].fillna(0)\n",
    "lebron[\"threep\"] = lebron[\"threep\"].fillna(0)\n",
    "\n",
    "jordan[\"ftp\"] = jordan[\"ftp\"].fillna(0)\n",
    "lebron[\"ftp\"] = lebron[\"ftp\"].fillna(0)\n",
    "\n",
    "jordan[\"result\"] = [int(res.split(\" \")[1][1:-1]) for res in jordan[\"result\"]]\n",
    "lebron[\"result\"] = [int(res.split(\" \")[1][1:-1]) for res in lebron[\"result\"]]\n",
    "\n",
    "t_age = lambda a, b: a + b / 365\n",
    "jordan[\"age\"] = [t_age(*[int(i) for i in age.split(\"-\")]) for age in jordan[\"age\"]]\n",
    "lebron[\"age\"] = [t_age(*[int(i) for i in age.split(\"-\")]) for age in lebron[\"age\"]]\n",
    "\n",
    "t_time = lambda a, b: a + b / 60\n",
    "jordan[\"mp\"] = [t_time(*[int(i) for i in m.split(\":\")]) for m in jordan[\"mp\"]]\n",
    "lebron[\"mp\"] = [t_time(*[int(i) for i in m.split(\":\")]) for m in lebron[\"mp\"]]"
   ]
  },
  {
   "cell_type": "code",
   "execution_count": 3,
   "id": "9315277b",
   "metadata": {},
   "outputs": [],
   "source": [
    "def split_df(x, s1=0.6, s2=0.8):\n",
    "    size = x.shape[0]\n",
    "    return x[int(size * s1):], x[int(size * s1):int(size * s2)], x[:int(size * s2)]\n",
    "\n",
    "\n",
    "def standarize(x_train):\n",
    "    mean = x_train.mean(0)\n",
    "    std = x_train.std(0)\n",
    "    return (x_train - mean[None, :]) / std[None, :]"
   ]
  },
  {
   "cell_type": "code",
   "execution_count": 4,
   "id": "b7aa5529",
   "metadata": {},
   "outputs": [],
   "source": [
    "X_jordan = jordan[[\"age\", \"result\", \"mp\", \"fg\", \"fga\", \"fgp\", \"three\", \"threeatt\", \"threep\", \"ft\", \"fta\", \"ftp\", \"orb\", \"drb\", \"trb\", \"ast\", \"stl\", \"blk\", \"tov\", \"pts\"]]\n",
    "y_jordan = jordan[\"game_score\"]\n",
    "X_lebron = lebron[[\"age\", \"result\", \"mp\", \"fg\", \"fga\", \"fgp\", \"three\", \"threeatt\", \"threep\", \"ft\", \"fta\", \"ftp\", \"orb\", \"drb\", \"trb\", \"ast\", \"stl\", \"blk\", \"tov\", \"pts\"]]\n",
    "y_lebron = lebron[\"game_score\"]\n",
    "\n",
    "X_train_j, X_test_j, X_cross_j = split_df(X_jordan)\n",
    "y_train_j, y_test_j, y_cross_j = split_df(y_jordan)\n",
    "\n",
    "X_train_l, X_test_l, X_cross_l = split_df(X_lebron)\n",
    "y_train_l, y_test_l, y_cross_l = split_df(y_lebron)"
   ]
  },
  {
   "cell_type": "code",
   "execution_count": 5,
   "id": "971c2b7b",
   "metadata": {},
   "outputs": [
    {
     "name": "stdout",
     "output_type": "stream",
     "text": [
      "\n",
      "Coefs (per dim)  [ 0.00464374 -0.00328273 -0.00940925  0.30248009 -0.69868202  0.04646952\n",
      "  0.07968736 -0.04312301 -0.06229749  0.35970956 -0.40964839 -0.03023663\n",
      "  0.39693622 -0.04795447  0.34898175  0.66496453  1.00324258  0.63337203\n",
      " -1.04282229  1.04435709]  and intercept:  -0.29978830416428437\n",
      "\n",
      "Training Score: 0.9971771029353605\n",
      "Testing Score: 0.9967125604981225\n",
      "\n",
      "Training MSE:  0.2221873312982712\n",
      "Testing MSE:  0.2156744461815671\n",
      "\n",
      "Testing R2 score:  0.9967125604981225\n"
     ]
    },
    {
     "data": {
      "text/plain": [
       "Text(0, 0.5, 'Predicted game_score')"
      ]
     },
     "execution_count": 5,
     "metadata": {},
     "output_type": "execute_result"
    },
    {
     "data": {
      "image/png": "[encoded data removed]",
      "text/plain": [
       "<Figure size 432x288 with 1 Axes>"
      ]
     },
     "metadata": {
      "needs_background": "light"
     },
     "output_type": "display_data"
    }
   ],
   "source": [
    "regr_jordan = linear_model.LinearRegression()\n",
    "regr_jordan.fit(X_train_j, y_train_j) \n",
    "\n",
    "print('\\nCoefs (per dim) ', regr_jordan.coef_, ' and intercept: ', regr_jordan.intercept_)\n",
    "print('\\nTraining Score:', regr_jordan.score(X_train_j, y_train_j) )\n",
    "print('Testing Score:', regr_jordan.score(X_test_j, y_test_j) )\n",
    "print('\\nTraining MSE: ', np.mean((regr_jordan.predict(X_train_j) - y_train_j)**2))\n",
    "print('Testing MSE: ', np.mean((regr_jordan.predict(X_test_j) - y_test_j)**2))\n",
    "print('\\nTesting R2 score: ', r2_score(y_test_j, regr_jordan.predict(X_test_j)))\n",
    "\n",
    "# Visualization of target and predicted responses\n",
    "clf = linear_model.LinearRegression()\n",
    "clf.fit(X_train_j, y_train_j)\n",
    "predicted = clf.predict(X_cross_j)\n",
    "plt.scatter(y_cross_j, predicted, alpha=0.3)\n",
    "plt.plot([-3, 3], [-3, 3], '--k')\n",
    "plt.axis('tight')\n",
    "plt.xlabel('True game_score')\n",
    "plt.ylabel('Predicted game_score')"
   ]
  },
  {
   "cell_type": "markdown",
   "id": "848becaf",
   "metadata": {},
   "source": [
    "### regresion with just the important/relevant attributes "
   ]
  },
  {
   "cell_type": "code",
   "execution_count": 6,
   "id": "bb9d97a0",
   "metadata": {},
   "outputs": [
    {
     "name": "stdout",
     "output_type": "stream",
     "text": [
      "\n",
      "Coefs (per dim)  [ 1.26077459e-01 -4.45134047e-01 -4.31655823e-03  4.37455464e-04\n",
      "  1.51040083e-01 -1.99527612e-01 -1.07474804e-03  6.62758797e-02\n",
      "  9.46286742e-02  1.89016325e-01  1.73765218e-01  6.79076615e-02\n",
      " -1.90806423e-01  1.07619461e+00]  and intercept:  0.009074958194991989\n",
      "\n",
      "Training Score: 0.9971087212443945\n",
      "Testing Score: 0.996656757202231\n",
      "\n",
      "Training MSE:  0.0025283979489000717\n",
      "Testing MSE:  0.002436913161587707\n",
      "\n",
      "Testing R2 score:  0.996656757202231\n"
     ]
    },
    {
     "data": {
      "text/plain": [
       "Text(0, 0.5, 'Predicted game_score')"
      ]
     },
     "execution_count": 6,
     "metadata": {},
     "output_type": "execute_result"
    },
    {
     "data": {
      "image/png": "[encoded data removed]",
      "text/plain": [
       "<Figure size 432x288 with 1 Axes>"
      ]
     },
     "metadata": {
      "needs_background": "light"
     },
     "output_type": "display_data"
    }
   ],
   "source": [
    "js = standarize(jordan)\n",
    "\n",
    "X_jordan = js[[\"fg\", \"fga\", \"fgp\", \"threep\", \"ft\", \"fta\", \"ftp\", \"orb\", \"trb\", \"ast\", \"stl\", \"blk\", \"tov\", \"pts\"]]\n",
    "y_jordan = js[\"game_score\"]\n",
    "\n",
    "X_train_j, X_test_j, X_cross_j = split_df(X_jordan)\n",
    "y_train_j, y_test_j, y_cross_j = split_df(y_jordan)\n",
    "\n",
    "regr_jordan = linear_model.LinearRegression()\n",
    "regr_jordan.fit(X_train_j, y_train_j) \n",
    "\n",
    "print('\\nCoefs (per dim) ', regr_jordan.coef_, ' and intercept: ', regr_jordan.intercept_)\n",
    "print('\\nTraining Score:', regr_jordan.score(X_train_j, y_train_j) )\n",
    "print('Testing Score:', regr_jordan.score(X_test_j, y_test_j) )\n",
    "print('\\nTraining MSE: ', np.mean((regr_jordan.predict(X_train_j) - y_train_j)**2))\n",
    "print('Testing MSE: ', np.mean((regr_jordan.predict(X_test_j) - y_test_j)**2))\n",
    "print('\\nTesting R2 score: ', r2_score(y_test_j, regr_jordan.predict(X_test_j)))\n",
    "\n",
    "# Visualization of target and predicted responses\n",
    "clf = linear_model.LinearRegression()\n",
    "clf.fit(X_train_j, y_train_j)\n",
    "predicted = clf.predict(X_cross_j)\n",
    "plt.scatter(y_cross_j, predicted, alpha=0.3)\n",
    "plt.plot([-3, 3], [-3, 3], '--k')\n",
    "plt.axis('tight')\n",
    "plt.xlabel('True game_score')\n",
    "plt.ylabel('Predicted game_score')"
   ]
  },
  {
   "cell_type": "code",
   "execution_count": 7,
   "id": "30bfc3e9",
   "metadata": {
    "scrolled": true
   },
   "outputs": [
    {
     "name": "stdout",
     "output_type": "stream",
     "text": [
      "\n",
      "Coefs (per dim)  [ 1.078115    0.1178023  -0.44043259  0.14777872 -0.19755116  0.11146924\n",
      "  0.08041658  0.1736452   0.06781741 -0.19075937  0.18909332]  and intercept:  0.00907986845568548\n",
      "\n",
      "Training Score: 0.9971052831388775\n",
      "Testing Score: 0.9966659229629657\n",
      "\n",
      "Training MSE:  0.0025314045420625005\n",
      "Testing MSE:  0.002430232174198686\n",
      "\n",
      "Testing R2 score:  0.9966659229629657\n"
     ]
    },
    {
     "data": {
      "text/plain": [
       "Text(0, 0.5, 'Predicted game_score')"
      ]
     },
     "execution_count": 7,
     "metadata": {},
     "output_type": "execute_result"
    },
    {
     "data": {
      "image/png": "[encoded data removed]",
      "text/plain": [
       "<Figure size 432x288 with 1 Axes>"
      ]
     },
     "metadata": {
      "needs_background": "light"
     },
     "output_type": "display_data"
    }
   ],
   "source": [
    "#X_jordan = js[[\"age\", \"result\", \"mp\", \"fgp\", \"three\", \"threeatt\", \"threep\", \"ftp\", \"trb\"]]\n",
    "X_jordan = js[[\"pts\", \"fg\", \"fga\", \"ft\", \"fta\", \"orb\", \"drb\", \"stl\", \"blk\", \"tov\", \"ast\"]]\n",
    "y_jordan = js[\"game_score\"]\n",
    "\n",
    "X_train_j, X_test_j, X_cross_j = split_df(X_jordan)\n",
    "y_train_j, y_test_j, y_cross_j = split_df(y_jordan)\n",
    "\n",
    "regr_jordan = linear_model.LinearRegression()\n",
    "regr_jordan.fit(X_train_j, y_train_j) \n",
    "\n",
    "print('\\nCoefs (per dim) ', regr_jordan.coef_, ' and intercept: ', regr_jordan.intercept_)\n",
    "print('\\nTraining Score:', regr_jordan.score(X_train_j, y_train_j) )\n",
    "print('Testing Score:', regr_jordan.score(X_test_j, y_test_j) )\n",
    "print('\\nTraining MSE: ', np.mean((regr_jordan.predict(X_train_j) - y_train_j)**2))\n",
    "print('Testing MSE: ', np.mean((regr_jordan.predict(X_test_j) - y_test_j)**2))\n",
    "print('\\nTesting R2 score: ', r2_score(y_test_j, regr_jordan.predict(X_test_j)))\n",
    "\n",
    "# Visualization of target and predicted responses\n",
    "clf = linear_model.LinearRegression()\n",
    "clf.fit(X_train_j, y_train_j)\n",
    "predicted = clf.predict(X_cross_j)\n",
    "plt.scatter(y_cross_j, predicted, alpha=0.3)\n",
    "plt.plot([-3, 3], [-3, 3], '--k')\n",
    "plt.axis('tight')\n",
    "plt.xlabel('True game_score')\n",
    "plt.ylabel('Predicted game_score')"
   ]
  },
  {
   "cell_type": "markdown",
   "id": "80c7435e",
   "metadata": {},
   "source": [
    "### lebron"
   ]
  },
  {
   "cell_type": "code",
   "execution_count": 8,
   "id": "15cb1f81",
   "metadata": {},
   "outputs": [
    {
     "name": "stdout",
     "output_type": "stream",
     "text": [
      "\n",
      "Coefs (per dim)  [-0.00352643  0.0034497  -0.01574006  0.50050619 -0.43176161  0.00228471\n",
      "  0.07439334 -0.00109168  0.00173622  0.37452067 -0.21451181 -0.00374221\n",
      "  0.07576704  0.04055516  0.06610044  0.25875697  0.17003223  0.08487917\n",
      " -0.24291615  0.57032204]  and intercept:  0.007851537056199905\n",
      "\n",
      "Training Score: 0.9955778343487951\n",
      "Testing Score: 0.9956843183412608\n",
      "\n",
      "Training MSE:  0.0035802044589487232\n",
      "Testing MSE:  0.003618310636519483\n",
      "\n",
      "Testing R2 score:  0.9966659229629657\n"
     ]
    },
    {
     "data": {
      "text/plain": [
       "Text(0, 0.5, 'Predicted game_score')"
      ]
     },
     "execution_count": 8,
     "metadata": {},
     "output_type": "execute_result"
    },
    {
     "data": {
      "image/png": "[encoded data removed]",
      "text/plain": [
       "<Figure size 432x288 with 1 Axes>"
      ]
     },
     "metadata": {
      "needs_background": "light"
     },
     "output_type": "display_data"
    }
   ],
   "source": [
    "ls = standarize(lebron)\n",
    "\n",
    "X_lebron = ls[[\"age\", \"result\", \"mp\", \"fg\", \"fga\", \"fgp\", \"three\", \"threeatt\", \"threep\", \"ft\", \"fta\", \"ftp\", \"orb\", \"drb\", \"trb\", \"ast\", \"stl\", \"blk\", \"tov\", \"pts\"]]\n",
    "y_lebron = ls[\"game_score\"]\n",
    "\n",
    "X_train_l, X_test_l, X_cross_l = split_df(X_lebron)\n",
    "y_train_l, y_test_l, y_cross_l = split_df(y_lebron)\n",
    "\n",
    "regr_lebron = linear_model.LinearRegression()\n",
    "regr_lebron.fit(X_train_l, y_train_l) \n",
    "\n",
    "print('\\nCoefs (per dim) ', regr_lebron.coef_, ' and intercept: ', regr_lebron.intercept_)\n",
    "print('\\nTraining Score:', regr_lebron.score(X_train_l, y_train_l) )\n",
    "print('Testing Score:', regr_lebron.score(X_test_l, y_test_l) )\n",
    "print('\\nTraining MSE: ', np.mean((regr_lebron.predict(X_train_l) - y_train_l)**2))\n",
    "print('Testing MSE: ', np.mean((regr_lebron.predict(X_test_l) - y_test_l)**2))\n",
    "print('\\nTesting R2 score: ', r2_score(y_test_j, regr_jordan.predict(X_test_j)))\n",
    "\n",
    "#Visualization of target and predicted responses\n",
    "clf = linear_model.LinearRegression()\n",
    "clf.fit(X_train_j, y_train_j)\n",
    "predicted = clf.predict(X_cross_j)\n",
    "plt.scatter(y_cross_j, predicted, alpha=0.3)\n",
    "plt.plot([-3, 3], [-3, 3], '--k')\n",
    "plt.axis('tight')\n",
    "plt.xlabel('True game_score')\n",
    "plt.ylabel('Predicted game_score')"
   ]
  },
  {
   "cell_type": "code",
   "execution_count": null,
   "id": "b19cd729-9555-45ef-b512-31d9c2313617",
   "metadata": {},
   "outputs": [],
   "source": []
  }
 ],
 "metadata": {
  "kernelspec": {
   "display_name": "Python 3 (ipykernel)",
   "language": "python",
   "name": "python3"
  },
  "language_info": {
   "codemirror_mode": {
    "name": "ipython",
    "version": 3
   },
   "file_extension": ".py",
   "mimetype": "text/x-python",
   "name": "python",
   "nbconvert_exporter": "python",
   "pygments_lexer": "ipython3",
   "version": "3.7.7"
  }
 },
 "nbformat": 4,
 "nbformat_minor": 5
}
