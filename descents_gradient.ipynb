{
 "cells": [
  {
   "cell_type": "code",
   "execution_count": 1,
   "id": "9c61a32b",
   "metadata": {},
   "outputs": [],
   "source": [
    "import numpy as np\n",
    "import warnings\n",
    "warnings.filterwarnings(\"ignore\")"
   ]
  },
  {
   "cell_type": "code",
   "execution_count": 2,
   "id": "1fcfe3aa",
   "metadata": {},
   "outputs": [],
   "source": [
    "class Regressor(object):\n",
    "    def __init__(self, weights, alpha, beta):\n",
    "        # Initialize the weights and the previous weights used in the train function\n",
    "        self.prev = np.array(weights)\n",
    "        self.weights = np.array(weights)\n",
    "        # Initialize the specifications for the training process\n",
    "        self.a = alpha\n",
    "        self.b = beta\n",
    "\n",
    "        \n",
    "    def predict(self, X):\n",
    "        # Function that uses the weights to predict an output given a matrix of values\n",
    "        return [self.weights[0] + np.dot(row, self.weights[1:]) for i, row in X.iterrows()]\n",
    "    \n",
    "    \n",
    "    def __update(self, X, hy, y):\n",
    "        # Procedure that updates the weights given a matrix, the predicction (hy)  \n",
    "        # and its real value using a formula that modifies each weight separately\n",
    "        m = X.shape[0]\n",
    "        self.weights[0] -= self.a * np.sum(hy - y) / m\n",
    "        # Except for the weight of the intercept, the other ones must be calculated\n",
    "        # taking into account the predictions and their real values\n",
    "        for j in range(1, len(self.weights)):\n",
    "            self.weights[j] -= self.a * (sum([(hy[i] - y.iloc[i]) * X.iloc[i, j-1] for i in range(m)]) - self.b * self.prev[j]) / m \n",
    "    \n",
    "    \n",
    "    def __J(self, X, y):\n",
    "        # Function that calculates the MSE (Minimum Square Error) \n",
    "        return 0.5 * (np.sum((self.predict(X) - y)**2) + self.b * np.sum(self.weights**2)) / X.shape[0]\n",
    "        \n",
    "    \n",
    "    def train(self, max_iters, eps, X, y):\n",
    "        # Procedure that trains the Regressor while the improvement is lesser than\n",
    "        # the parameter given and it has not reached a maximum of iterations\n",
    "        iters = 0\n",
    "        improvement = self.__J(X, y)\n",
    "        while improvement > eps and iters < max_iters:\n",
    "            # Saves the previous weights and updates the Regressor\n",
    "            self.prev = np.copy(self.weights)\n",
    "            self.__update(X, self.predict(X), y)\n",
    "            # Calculates the new improvment and increases the number of iterations\n",
    "            improvement = self.__J(X, y)\n",
    "            iters += 1"
   ]
  },
  {
   "cell_type": "code",
   "execution_count": null,
   "id": "3351c60d-407e-4fa7-bc9a-152b63558fb6",
   "metadata": {},
   "outputs": [],
   "source": []
  }
 ],
 "metadata": {
  "kernelspec": {
   "display_name": "Python 3 (ipykernel)",
   "language": "python",
   "name": "python3"
  },
  "language_info": {
   "codemirror_mode": {
    "name": "ipython",
    "version": 3
   },
   "file_extension": ".py",
   "mimetype": "text/x-python",
   "name": "python",
   "nbconvert_exporter": "python",
   "pygments_lexer": "ipython3",
   "version": "3.7.7"
  }
 },
 "nbformat": 4,
 "nbformat_minor": 5
}
